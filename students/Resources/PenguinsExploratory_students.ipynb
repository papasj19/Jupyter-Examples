{
 "cells": [
  {
   "cell_type": "markdown",
   "metadata": {
    "id": "gbAc8MXQtYBt"
   },
   "source": [
    "The dataset *penguins* contains a study of the penguin species that inhabit different islands of Antarctica. <br>\n",
    "\n",
    "Researchers have a few questions about penguins:\n",
    "- Can we distinguish the sex of the animals from the rest of the data?\n",
    "- Is the island decisive when it comes to the physical development of penguins?\n",
    "- Are we able to distinguish penguins from one island or another?\n",
    "- Could we identify the species with physiological data?\n",
    "\n",
    "\n",
    "To answer these questions and more, it is necessary to do an **exploratory analysis** of the data provided in the dataset and process it in order to obtain answers and extract enough knowledge to make decisions."
   ]
  },
  {
   "cell_type": "code",
   "execution_count": null,
   "metadata": {
    "id": "Pcw4X2UjtLfo"
   },
   "outputs": [],
   "source": [
    "# Load libraries\n",
    "import seaborn as sns\n",
    "import pandas as pd\n",
    "import matplotlib.pyplot as plt"
   ]
  },
  {
   "cell_type": "markdown",
   "metadata": {
    "id": "k_1NBFLjkduM"
   },
   "source": [
    "## Load data with pandas"
   ]
  },
  {
   "cell_type": "code",
   "execution_count": null,
   "metadata": {
    "id": "_7fMPXSGvMHr"
   },
   "outputs": [],
   "source": [
    "#Create a data frame from the file separated by \",\"\n",
    "#penguins = pd.read_csv('penguins_antarctica.csv', sep=',')  \n",
    "penguins = sns.load_dataset(\"penguins\")\n",
    "\n",
    "print(\"Variable type: \", type(penguins))"
   ]
  },
  {
   "cell_type": "markdown",
   "metadata": {
    "id": "X636Ry8xvgwt"
   },
   "source": [
    "Our *penguins* variable contains the data and is already structured in **pandas** format so it will not need to be converted and it will be much easier to perform the exploration. (https://pandas.pydata.org/docs/reference/api/pandas.DataFrame.html) "
   ]
  },
  {
   "cell_type": "markdown",
   "metadata": {
    "id": "qfiaU3FAkv9O"
   },
   "source": [
    "### Review data (name and type of the columns, first row, last rows, first 5 rows, random sample of 5 rows...)"
   ]
  },
  {
   "cell_type": "code",
   "execution_count": null,
   "metadata": {
    "id": "6QBVqStrnS0h"
   },
   "outputs": [],
   "source": [
    "# Number of original records using the function len() & .shape \n",
    "print(\"Number of records: \", len(penguins))\n",
    "print(\"Dataset size: \", penguins.shape)"
   ]
  },
  {
   "cell_type": "code",
   "execution_count": null,
   "metadata": {
    "id": "kR9vn5d4v4hG"
   },
   "outputs": [],
   "source": [
    "penguins.columns"
   ]
  },
  {
   "cell_type": "code",
   "execution_count": null,
   "metadata": {
    "id": "-9KkacnPk71K"
   },
   "outputs": [],
   "source": [
    "penguins.dtypes"
   ]
  },
  {
   "cell_type": "markdown",
   "metadata": {
    "id": "9PNKTSYjlKRZ"
   },
   "source": [
    "\n"
   ]
  },
  {
   "cell_type": "markdown",
   "metadata": {
    "id": "4shZJ4L0wLKZ"
   },
   "source": [
    "We observe 7 different columns, which will be the **variables** that describe each penguin, represented by each row, also called **record/sample**. <br>\n",
    "Of the columns, we can see that there are 3 of them with information in **text format** and the rest are numeric with decimals. The first will need additional processing to use them in algorithms (they only understand digits).\n"
   ]
  },
  {
   "cell_type": "code",
   "execution_count": null,
   "metadata": {
    "id": "A4ozuknJlx4a"
   },
   "outputs": [],
   "source": [
    "#iloc is to access the data frame by position\n",
    "penguins.iloc[0]"
   ]
  },
  {
   "cell_type": "code",
   "execution_count": null,
   "metadata": {
    "id": "wETIw19jl2fw"
   },
   "outputs": [],
   "source": [
    "penguins.iloc[-1]"
   ]
  },
  {
   "cell_type": "code",
   "execution_count": null,
   "metadata": {
    "id": "FYcV8OV2l4d6"
   },
   "outputs": [],
   "source": [
    "#First 5 rows\n",
    "penguins.iloc[0:5]"
   ]
  },
  {
   "cell_type": "code",
   "execution_count": null,
   "metadata": {
    "id": "poxLBrSql89D"
   },
   "outputs": [],
   "source": [
    "#First 5 rows\n",
    "penguins.head(5)"
   ]
  },
  {
   "cell_type": "code",
   "execution_count": null,
   "metadata": {
    "id": "EQbfMd3YmBAA"
   },
   "outputs": [],
   "source": [
    "#Last 5 rows\n",
    "penguins.tail(5)"
   ]
  },
  {
   "cell_type": "code",
   "execution_count": null,
   "metadata": {
    "id": "w_i_h4wVmEj0"
   },
   "outputs": [],
   "source": [
    "#Random sample of 5 rows\n",
    "penguins.sample(5)"
   ]
  },
  {
   "cell_type": "code",
   "execution_count": null,
   "metadata": {
    "id": "A9n4m0oXmIK6"
   },
   "outputs": [],
   "source": [
    "#We can access to one or several columns\n",
    "penguins.iloc[0:5]['island']"
   ]
  },
  {
   "cell_type": "code",
   "execution_count": null,
   "metadata": {
    "id": "5Rz-_VOKoTuQ"
   },
   "outputs": [],
   "source": [
    "penguins.iloc[0:5].island"
   ]
  },
  {
   "cell_type": "code",
   "execution_count": null,
   "metadata": {
    "id": "Yz4EEc7SmKFt"
   },
   "outputs": [],
   "source": [
    "penguins.iloc[0:5][['species','sex']]"
   ]
  },
  {
   "cell_type": "code",
   "execution_count": null,
   "metadata": {
    "id": "FbSqPm21mO7S"
   },
   "outputs": [],
   "source": [
    "#loc is to access the data frame by index\n",
    "penguins.loc[0]"
   ]
  },
  {
   "cell_type": "code",
   "execution_count": null,
   "metadata": {
    "id": "cWmoQMB4mSuH"
   },
   "outputs": [],
   "source": [
    "#-1 index does not exist\n",
    "penguins.loc[-1]"
   ]
  },
  {
   "cell_type": "code",
   "execution_count": null,
   "metadata": {
    "id": "jXAcoRcamVM9"
   },
   "outputs": [],
   "source": [
    "#Check indexes\n",
    "penguins.index"
   ]
  },
  {
   "cell_type": "markdown",
   "metadata": {
    "id": "w4YM6Q51mZ_Z"
   },
   "source": [
    "## Description of data with pandas"
   ]
  },
  {
   "cell_type": "markdown",
   "metadata": {
    "id": "yDXlkKQBmfId"
   },
   "source": [
    "### Numerical attributes"
   ]
  },
  {
   "cell_type": "code",
   "execution_count": null,
   "metadata": {
    "id": "Me0AJw6L_RJE"
   },
   "outputs": [],
   "source": [
    "#Pandas allows to make several calculations on columns\n",
    "penguins['flipper_length_mm'].mean()"
   ]
  },
  {
   "cell_type": "code",
   "execution_count": null,
   "metadata": {
    "id": "f8D2Zwjx_nK9"
   },
   "outputs": [],
   "source": [
    "penguins['flipper_length_mm'].std()"
   ]
  },
  {
   "cell_type": "code",
   "execution_count": null,
   "metadata": {
    "id": "j6QLeOXc_sLP"
   },
   "outputs": [],
   "source": [
    "penguins['flipper_length_mm'].max()"
   ]
  },
  {
   "cell_type": "code",
   "execution_count": null,
   "metadata": {
    "id": "WV0QkkdPAJQK"
   },
   "outputs": [],
   "source": [
    "penguins['flipper_length_mm'].min()"
   ]
  },
  {
   "cell_type": "code",
   "execution_count": null,
   "metadata": {
    "id": "kFfvNEBO_uM7"
   },
   "outputs": [],
   "source": [
    "#Filtering by condition\n",
    "penguins[penguins['sex']=='Male']['flipper_length_mm'].min()"
   ]
  },
  {
   "cell_type": "code",
   "execution_count": null,
   "metadata": {
    "id": "eyBooQlomeFK"
   },
   "outputs": [],
   "source": [
    "#Some descriptive statistics of each attribute\n",
    "penguins.describe()"
   ]
  },
  {
   "cell_type": "code",
   "execution_count": null,
   "metadata": {
    "id": "rKv1vQvx91pJ"
   },
   "outputs": [],
   "source": [
    "#Histogram of numerical attribute flipper_length_mm\n",
    "penguins['flipper_length_mm'].plot.hist(bins=10)"
   ]
  },
  {
   "cell_type": "code",
   "execution_count": null,
   "metadata": {
    "id": "11mWMbyp-ZIS"
   },
   "outputs": [],
   "source": [
    "sns.histplot(data=penguins, x=\"flipper_length_mm\", bins=10)"
   ]
  },
  {
   "cell_type": "code",
   "execution_count": null,
   "metadata": {
    "id": "K167mCS9-3aI"
   },
   "outputs": [],
   "source": [
    "sns.histplot(data=penguins, x=\"flipper_length_mm\", hue=\"species\")"
   ]
  },
  {
   "cell_type": "markdown",
   "metadata": {
    "id": "kj4BfmJXm3c8"
   },
   "source": [
    "### Categorical attributes"
   ]
  },
  {
   "cell_type": "code",
   "execution_count": null,
   "metadata": {
    "id": "2ykeGmkvmZMz"
   },
   "outputs": [],
   "source": [
    "penguins['species'].unique()"
   ]
  },
  {
   "cell_type": "code",
   "execution_count": null,
   "metadata": {
    "id": "R8dzWVhpm-hM"
   },
   "outputs": [],
   "source": [
    "#Equivalent to\n",
    "set(penguins['species'])"
   ]
  },
  {
   "cell_type": "code",
   "execution_count": null,
   "metadata": {
    "id": "BdILotgJnBlH"
   },
   "outputs": [],
   "source": [
    "penguins['island'].unique()"
   ]
  },
  {
   "cell_type": "code",
   "execution_count": null,
   "metadata": {
    "id": "8C5tWtufnD7P"
   },
   "outputs": [],
   "source": [
    "penguins['sex'].unique()"
   ]
  },
  {
   "cell_type": "markdown",
   "metadata": {
    "id": "NqR5Z1NXlZTQ"
   },
   "source": [
    "It is also observed how some record has **nan/null** values, so in general terms we will need to **clean** the data set to avoid records with this type of associated values.\n",
    "\n",
    "Let's start with cleaning!"
   ]
  },
  {
   "cell_type": "code",
   "execution_count": null,
   "metadata": {
    "id": "Vc1Q18J0x0pE"
   },
   "outputs": [],
   "source": [
    "# We evaluate how many records have null values per variable\n",
    "penguins.isna().sum()"
   ]
  },
  {
   "cell_type": "markdown",
   "metadata": {
    "id": "z1ooIuMKyCj_"
   },
   "source": [
    "There are few samples with null values, so a priori, if we eliminate them we will not have problems. Few samples do not affect the representativeness of the data."
   ]
  },
  {
   "cell_type": "code",
   "execution_count": null,
   "metadata": {
    "id": "NIWQaP9zyMF3"
   },
   "outputs": [],
   "source": [
    "# We remove null records with the .dropna() function\n",
    "penguins_clean = penguins.dropna()\n",
    "\n",
    "# We ensure how many final samples we have\n",
    "print(\"Number of registers without nulls: \", len(penguins_clean))"
   ]
  },
  {
   "cell_type": "code",
   "execution_count": null,
   "metadata": {
    "id": "mligdjyay3AT"
   },
   "outputs": [],
   "source": [
    "# We start to analyze the data. First step: Is there the same ratio of both sexes?\n",
    "print(penguins_clean.sex.value_counts())"
   ]
  },
  {
   "cell_type": "code",
   "execution_count": null,
   "metadata": {
    "id": "OF1wS2ZOMfOI"
   },
   "outputs": [],
   "source": [
    "sns.countplot(penguins_clean['sex'])"
   ]
  },
  {
   "cell_type": "markdown",
   "metadata": {
    "id": "IBWDMItozNSk"
   },
   "source": [
    "It seems that globally, there is practically the same proportion, so it is a good start when it comes to avoiding problems with the algorithms."
   ]
  },
  {
   "cell_type": "code",
   "execution_count": null,
   "metadata": {
    "id": "KMBXu_SGzZnd"
   },
   "outputs": [],
   "source": [
    "# Second step: Are the variables that describe both sexes differentiable?\n",
    "sns.pairplot(data = penguins_clean, hue = \"sex\")"
   ]
  },
  {
   "cell_type": "markdown",
   "metadata": {
    "id": "8QOXMnPjz14B"
   },
   "source": [
    "The features of the penguins (described by the numerical variables) do not seem to have much difference between them a priori. Observing the distributions (diagonals) it seems that we are dealing with a **binomial distribution** and in the graph of the variables it does not seem that they are very separable between them. <br><br>\n",
    "Still, it seems that a couple of variables can help distinguish between the sexes of penguins. <br>\n",
    "For example, the variables *body_mass_g* (vertical axis) and *bill_depth_mm* (horizontal axis) form 2 very separate nuclei where, in turn, it seems that the sex of the penguin is quite separable.\n",
    "<br><br>\n",
    "The next step to continue analyzing will consist of using the non-numeric variables (island & species) to see if working with subgroups, we can extract more information."
   ]
  },
  {
   "cell_type": "code",
   "execution_count": null,
   "metadata": {
    "id": "foXe1Qc01wzP"
   },
   "outputs": [],
   "source": [
    "# How many islands are there and how are the penguins distributed?\n",
    "penguins_clean.groupby([\"sex\", \"island\", \"species\"]).count()[\"body_mass_g\"]"
   ]
  },
  {
   "cell_type": "markdown",
   "metadata": {
    "id": "afB7GBYt2a7r"
   },
   "source": [
    "We observe how they are distributed first by sex, island and finally by species. Paying attention, you can see how there is no island where the 3 penguin species cohabit and therefore it will make it difficult for us to identify the animals.\n"
   ]
  },
  {
   "cell_type": "markdown",
   "metadata": {
    "id": "SeLcJ7T27bsl"
   },
   "source": [
    "To simplify the current problem, we will address the question by segmenting it: Are we able to distinguish the sex of the *Adelie* species in individuals from the same island? Will they have different characteristics between the different islands?\n",
    "\n",
    "The reason for using the *Adelie* species is simple: it is the only one that inhabits the 3 islands."
   ]
  },
  {
   "cell_type": "code",
   "execution_count": null,
   "metadata": {
    "id": "U3gTOQdt2VSO"
   },
   "outputs": [],
   "source": [
    "# We are going to select only the Adelie species\n",
    "penguins_adelie = penguins_clean[penguins_clean.species == \"Adelie\"]\n",
    "print(\"Penguins from Adelie specie: \", len(penguins_adelie))\n",
    "penguins_adelie.head()"
   ]
  },
  {
   "cell_type": "code",
   "execution_count": null,
   "metadata": {
    "id": "w_Aylmsk4cqk"
   },
   "outputs": [],
   "source": [
    "# Let's now see how well they differ by islands. To do this, choose which island you want to check\n",
    "sns.pairplot(data = penguins_adelie[penguins_adelie.island == \"Torgersen\"], hue = \"sex\")"
   ]
  },
  {
   "cell_type": "code",
   "execution_count": null,
   "metadata": {
    "id": "hLkBvu8C8HGr"
   },
   "outputs": [],
   "source": [
    "sns.pairplot(data = penguins_adelie[penguins_adelie.island == \"Biscoe\"], hue = \"sex\")"
   ]
  },
  {
   "cell_type": "code",
   "execution_count": null,
   "metadata": {
    "id": "MWw_CCTh8JwH"
   },
   "outputs": [],
   "source": [
    "sns.pairplot(data = penguins_adelie[penguins_adelie.island == \"Dream\"], hue = \"sex\")"
   ]
  },
  {
   "cell_type": "markdown",
   "metadata": {
    "id": "1_jzdSj348iV"
   },
   "source": [
    "In the case of the island of **Torgersen**: although it cannot be assumed that all penguins will be easily identifiable, it seems that the separation between sex is more consistent, especially in those graphs in which the weight (*body_mass_g*) is involved."
   ]
  },
  {
   "cell_type": "code",
   "execution_count": null,
   "metadata": {
    "id": "lqhkwhlo8MIk"
   },
   "outputs": [],
   "source": [
    "# We are going to visualize the boxplots by island and sex to evaluate if the variables are differentiable\n",
    "fig,axes=plt.subplots(2,2,figsize=(20,10))\n",
    "sns.boxplot(data = penguins_adelie, x=\"island\",y=\"bill_length_mm\", hue = \"sex\", ax=axes[0, 0])\n",
    "sns.boxplot(data = penguins_adelie, x=\"island\",y=\"bill_depth_mm\", hue = \"sex\", ax=axes[0, 1])\n",
    "sns.boxplot(data = penguins_adelie, x=\"island\",y=\"flipper_length_mm\", hue = \"sex\", ax=axes[1, 0])\n",
    "sns.boxplot(data = penguins_adelie, x=\"island\",y=\"body_mass_g\", hue = \"sex\", ax=axes[1, 1])\n",
    "plt.tight_layout()"
   ]
  },
  {
   "cell_type": "markdown",
   "metadata": {
    "id": "XjQD0cGB9Qq2"
   },
   "source": [
    "With this last visualization we can answer the initial questions. In most combinations, there are very few *outliers*, and while the variables have reasonable differences separated by sex/island, there are many regions that overlap with each other, with *flipper_length_mm* being on island *Biscoe* where it is more difficult to separate.\n",
    "\n",
    "As a final step, we are going to make a small **correlation matrix** to numerically evaluate the linearity between the variables."
   ]
  },
  {
   "cell_type": "code",
   "execution_count": null,
   "metadata": {
    "id": "8p5wZ-I19-Sg"
   },
   "outputs": [],
   "source": [
    "# Encoding the variables to numeric to use the function\n",
    "coded_sex = [1 if value == \"Male\" else 0 for value in penguins_adelie.sex]\n",
    "penguins_adelie_num = penguins_adelie.copy()\n",
    "\n",
    "\n",
    "penguins_adelie_num.sex = coded_sex\n"
   ]
  },
  {
   "cell_type": "code",
   "execution_count": null,
   "metadata": {
    "id": "8oR-yONeERQN"
   },
   "outputs": [],
   "source": [
    "# Another method (better for several categories)\n",
    "penguins_adelie_num = penguins_adelie.copy()\n",
    "penguins_adelie_num['sex'] = penguins_adelie['sex'].replace(['Female', 'Male'], [0, 1])"
   ]
  },
  {
   "cell_type": "code",
   "execution_count": null,
   "metadata": {
    "id": "PKJ1Ajm0Eamw"
   },
   "outputs": [],
   "source": [
    "penguins_adelie_num['sex']"
   ]
  },
  {
   "cell_type": "code",
   "execution_count": null,
   "metadata": {
    "id": "HnPF_xh592cW"
   },
   "outputs": [],
   "source": [
    "# Correlation between the dataset variables with the sex class encoded\n",
    "plt.figure(figsize = (10, 6))\n",
    "sns.heatmap(penguins_adelie_num.corr(), annot = True)"
   ]
  },
  {
   "cell_type": "markdown",
   "metadata": {
    "id": "UsdBXe20_I7W"
   },
   "source": [
    "Finally, the correlation matrix provides us with information on the linearity of the variables. Since we want to identify if a penguin is male or female, we will look at the target variable: **sex**.\n",
    "\n",
    "In the case of *body_mass_g* we see that it has a linear correlation of almost 0.75, which is considered high, just like *bill_length_mm* and *bill_depth_mm*, which are close to 0.6. Finally, *flipper_length_mm* has little correlation.\n",
    "\n",
    "These values can be contrasted with the box plots (*boxplots*) made previously. In the case of *flipper_length_mm* it is observed how the ranges of values between penguins on island *Torgersen* overlap in most of the region.\n",
    "\n",
    "With this brief visual analysis we can begin to have enough knowledge to apply clustering techniques for the specific case:\n",
    "- We have visually verified the separability between the sex of the penguins working with the **granularity** of the data (depth)\n",
    "- Also the linearity between the variables and the objective variable, being able to reduce the number of dimensions to be used."
   ]
  },
  {
   "attachments": {},
   "cell_type": "markdown",
   "metadata": {
    "id": "yR5pu0dfCq48"
   },
   "source": [
    "# Exercise\n",
    "\n",
    "Try to ask one of these questions (e.g., using a correlation matrix):\n",
    "* Is the island decisive when it comes to the physical development of penguins? (Does being in a particular island affect the physical properties of the penguins?)\n",
    "* Are we able to distinguish penguins if they come from one island or another?\n",
    "* Could we identify the species and island based on their physiological data?\n",
    "\n",
    "Remember that all categorical attributes must be converted to numerical to consider them in the correlation matrix."
   ]
  },
  {
   "cell_type": "markdown",
   "metadata": {
    "id": "tZH3NOTlM6Az"
   },
   "source": [
    "--- \n",
    "Question 1: Is the island decisive when it comes to the physical development of penguins?"
   ]
  },
  {
   "cell_type": "code",
   "execution_count": null,
   "metadata": {
    "id": "H95fTYO3otb5"
   },
   "outputs": [],
   "source": []
  },
  {
   "attachments": {},
   "cell_type": "markdown",
   "metadata": {
    "id": "8wb2K5zsRcCi"
   },
   "source": [
    "--- \n",
    "Question 2: Are we able to distinguish penguins if they come from one island or another?"
   ]
  },
  {
   "cell_type": "code",
   "execution_count": null,
   "metadata": {
    "id": "R6i7T3W1ouIX"
   },
   "outputs": [],
   "source": []
  },
  {
   "attachments": {},
   "cell_type": "markdown",
   "metadata": {
    "id": "2G_a97iLURXp"
   },
   "source": [
    "--- \n",
    "Question 3: Could we identify the species and island based on their physiological data?"
   ]
  },
  {
   "cell_type": "code",
   "execution_count": null,
   "metadata": {
    "id": "DumtSVsIovqw"
   },
   "outputs": [],
   "source": []
  }
 ],
 "metadata": {
  "colab": {
   "provenance": []
  },
  "kernelspec": {
   "display_name": "Python 3 (ipykernel)",
   "language": "python",
   "name": "python3"
  },
  "language_info": {
   "codemirror_mode": {
    "name": "ipython",
    "version": 3
   },
   "file_extension": ".py",
   "mimetype": "text/x-python",
   "name": "python",
   "nbconvert_exporter": "python",
   "pygments_lexer": "ipython3",
   "version": "3.9.13"
  }
 },
 "nbformat": 4,
 "nbformat_minor": 1
}
