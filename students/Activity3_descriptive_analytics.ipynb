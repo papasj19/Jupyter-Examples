{
  "cells": [
    {
      "attachments": {},
      "cell_type": "markdown",
      "id": "AqlaWhatoyKN",
      "metadata": {
        "id": "AqlaWhatoyKN"
      },
      "source": [
        "# Primary Education - Sixth Year Assessment"
      ]
    },
    {
      "attachments": {},
      "cell_type": "markdown",
      "id": "JgkRlMgbi4Cs",
      "metadata": {
        "id": "JgkRlMgbi4Cs"
      },
      "source": [
        "## Context\n",
        "The dataset education.csv* contains the results obtained from sixth-year primary school students evaluating their skills and basic knowledge at the end of their primary education since 2018.\n",
        "\n",
        "We want to analyze this dataset to provide information about the 6th year primary school student profile and their yearly evolution.\n",
        "\n",
        "**Description of the columns**\n",
        "* YEAR: year in which the evaluation took place\n",
        "* SCAT: overall weighted score of Catalan language skills\n",
        "* SCAST: overall weighted score of Castilian language skills\n",
        "* SMAT: overall weighted score of math skills\n",
        "* SENG: overall weighted score of English language skills\n",
        "* SMED: overall score of the associated competence in the area of natural environment knowledge\n",
        "* GENDER: gender of the student who took the test\n",
        "* BIRTHYEAR: year of birth of the student took the assessment\n",
        "* AREA: region where the student took the assessment\n",
        "* NATURE: determines whether the student center is public or private\n",
        "* POP: population of municipality"
      ]
    },
    {
      "attachments": {},
      "cell_type": "markdown",
      "id": "VrCaE0xjFLUr",
      "metadata": {
        "id": "VrCaE0xjFLUr"
      },
      "source": [
        "## 1. Analysis of Students"
      ]
    },
    {
      "attachments": {},
      "cell_type": "markdown",
      "id": "puaEAySNnNsY",
      "metadata": {
        "id": "puaEAySNnNsY"
      },
      "source": [
        "1\\.1. Show using different graphics the number of students per year, per year and nature, per year and gender, and per year and population<br>\n",
        "1\\.2. Explain what conclusion you can infer from the graphics.\n"
      ]
    },
    {
      "attachments": {},
      "cell_type": "markdown",
      "id": "BN2GS45nFhxj",
      "metadata": {
        "id": "BN2GS45nFhxj"
      },
      "source": [
        "## 2.  Average Grade Analysis"
      ]
    },
    {
      "attachments": {},
      "cell_type": "markdown",
      "id": "hPcit0ofqlCs",
      "metadata": {
        "id": "hPcit0ofqlCs"
      },
      "source": [
        "2\\.1. Calculeu la mitjana de les 5 notes (PCAST, PCAT, PANG, PMAT i PMED) i afegiu-la a les dades.<br>\n",
        "2\\.2. Calculate the average of 5 grades/scores (SCAST, SCAT, SEND, SMAT and SMED) and add it to the data.<br>\n",
        "2\\.3. Discuss what conclusions you can infer."
      ]
    },
    {
      "attachments": {},
      "cell_type": "markdown",
      "id": "Di8liP7QGS1r",
      "metadata": {
        "id": "Di8liP7QGS1r"
      },
      "source": [
        "## 3. Grade Quartile Analysis"
      ]
    },
    {
      "attachments": {},
      "cell_type": "markdown",
      "id": "xV7MQklIrS5l",
      "metadata": {
        "id": "xV7MQklIrS5l"
      },
      "source": [
        "3\\.1. Show the boxplots for the 5 tests and the average per year.<br>\n",
        "3\\.2. Show the boxplots for the 5 tests and the average per gender.<br>\n",
        "3\\.3. Show the boxplots for the 5 tests and the average per nature.<br>\n",
        "3\\.4. Show the boxplots for the 5 tests and the average per population.<br>\n",
        "3\\.5. Show the boxplots for the 5 tests and the average per area.<br>\n",
        "3\\.6. Explain your conclusions."
      ]
    },
    {
      "attachments": {},
      "cell_type": "markdown",
      "id": "vkp6xCaOu73K",
      "metadata": {
        "id": "vkp6xCaOu73K"
      },
      "source": [
        "## 4. Correlation Analysis"
      ]
    },
    {
      "attachments": {},
      "cell_type": "markdown",
      "id": "UTasDS_luNpQ",
      "metadata": {
        "id": "UTasDS_luNpQ"
      },
      "source": [
        "4\\.1. Show the correlation matrix of variables. Convert to numbers what you think are needed to be converted (justify).<br>\n",
        "4\\.2. Make and explain your conclusions."
      ]
    },
    {
      "attachments": {},
      "cell_type": "markdown",
      "id": "d4NXCqiiKaf9",
      "metadata": {
        "id": "d4NXCqiiKaf9"
      },
      "source": [
        "## 5. Additonal Analysis"
      ]
    },
    {
      "attachments": {},
      "cell_type": "markdown",
      "id": "0Av68SXhKhWE",
      "metadata": {
        "id": "0Av68SXhKhWE"
      },
      "source": [
        "5\\.1. Add the additional analyses you think are appropriate..<br>\n",
        "5\\.2. Make and explain your conclusions."
      ]
    },
    {
      "attachments": {},
      "cell_type": "markdown",
      "id": "VdpedcVwHAbF",
      "metadata": {
        "id": "VdpedcVwHAbF"
      },
      "source": [
        "## 6. Identification of student typologies (OPTIONAL)"
      ]
    },
    {
      "attachments": {},
      "cell_type": "markdown",
      "id": "y4nkCPd-8vo6",
      "metadata": {
        "id": "y4nkCPd-8vo6"
      },
      "source": [
        "6\\.1. Apply the k-means clustering algorithm over the notes of the 5 subjects. Analyze the results obtained with different number of clusters and choose the grouping you consider most appropriate. Justifies the answer.<br>\n",
        "6\\.2. On the chosen solution, explain which type of student groups each cluster. You can use boxplots or histograms discriminating by the cluster identifier (you will have to add the cluster assigned to each row to the student table).<br>\n",
        "\n",
        "To save the cluster assigned to each student to the data table you can do (*data* is the  dataframe containing the data of the student and *kmeans* is the object Kmeans created):<br>\n",
        "`datas['cluster'] = kmeans.labels_`"
      ]
    }
  ],
  "metadata": {
    "colab": {
      "provenance": []
    },
    "kernelspec": {
      "display_name": "Python 3 (ipykernel)",
      "language": "python",
      "name": "python3"
    },
    "language_info": {
      "codemirror_mode": {
        "name": "ipython",
        "version": 3
      },
      "file_extension": ".py",
      "mimetype": "text/x-python",
      "name": "python",
      "nbconvert_exporter": "python",
      "pygments_lexer": "ipython3",
      "version": "3.9.13"
    }
  },
  "nbformat": 4,
  "nbformat_minor": 5
}
