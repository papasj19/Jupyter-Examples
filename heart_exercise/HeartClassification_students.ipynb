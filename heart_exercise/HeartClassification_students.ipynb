{
 "cells": [
  {
   "cell_type": "markdown",
   "metadata": {},
   "source": [
    "# Predictive analytics - Optional exercise"
   ]
  },
  {
   "cell_type": "markdown",
   "metadata": {
    "id": "gbAc8MXQtYBt"
   },
   "source": [
    "The dataset contains data from patients who have suffered a heart attack.\n",
    "\n",
    "* age : Age of the patient\n",
    "\n",
    "* sex : Sex of the patient\n",
    "\n",
    "* cp : Chest Pain type chest pain type\n",
    "    * Value 1: typical angina\n",
    "    * Value 2: atypical angina\n",
    "    * Value 3: non-anginal pain\n",
    "    * Value 4: asymptomatic\n",
    "    \n",
    "* trtbps : resting blood pressure (in mm Hg)\n",
    "\n",
    "* chol : cholestoral in mg/dl fetched via BMI sensor\n",
    "\n",
    "* fbs : (fasting blood sugar > 120 mg/dl) (1 = true; 0 = false)\n",
    "\n",
    "* restecg : resting electrocardiographic results\n",
    "    * Value 0: normal\n",
    "    * Value 1: having ST-T wave abnormality (T wave inversions and/or ST elevation or depression of > 0.05 mV)\n",
    "    * Value 2: showing probable or definite left ventricular hypertrophy by Estes' criteria\n",
    "\n",
    "* thalach : maximum heart rate achieved\n",
    "\n",
    "* exng: exercise induced angina (1 = yes; 0 = no)\n",
    "\n",
    "* caa: number of major vessels (0-3)\n",
    "\n",
    "* target : no = no heart attack, yes = heart attack\n",
    "\n",
    "Find a model that predicts if a patient will have a heart attack.\n"
   ]
  },
  {
   "cell_type": "code",
   "execution_count": 136,
   "metadata": {
    "id": "Pcw4X2UjtLfo"
   },
   "outputs": [],
   "source": [
    "# Load libraries\n",
    "import seaborn as sns\n",
    "import pandas as pd\n",
    "import matplotlib.pyplot as plt"
   ]
  },
  {
   "cell_type": "markdown",
   "metadata": {
    "id": "k_1NBFLjkduM"
   },
   "source": [
    "## Load data with pandas"
   ]
  },
  {
   "cell_type": "code",
   "execution_count": 137,
   "metadata": {
    "id": "vjVyJj9UQJH3"
   },
   "outputs": [],
   "source": [
    "#Create a data frame from the file separated by \";\"\n",
    "heart = pd.read_csv('heart.csv', sep=';')  "
   ]
  },
  {
   "cell_type": "markdown",
   "metadata": {
    "id": "iqM2yqKAsbLV"
   },
   "source": [
    "## Data preparation"
   ]
  },
  {
   "cell_type": "code",
   "execution_count": null,
   "metadata": {},
   "outputs": [],
   "source": []
  },
  {
   "cell_type": "markdown",
   "metadata": {},
   "source": [
    "## Data analysis"
   ]
  },
  {
   "cell_type": "code",
   "execution_count": 144,
   "metadata": {},
   "outputs": [],
   "source": []
  },
  {
   "cell_type": "markdown",
   "metadata": {
    "id": "a_XexQFBsnGb"
   },
   "source": [
    "## Preparing train and test or k-fold cross validation"
   ]
  },
  {
   "cell_type": "code",
   "execution_count": 145,
   "metadata": {
    "id": "-40L7ZJlTzUz"
   },
   "outputs": [],
   "source": []
  },
  {
   "cell_type": "markdown",
   "metadata": {
    "id": "ph5zVjyasXW7"
   },
   "source": [
    "## Classification"
   ]
  },
  {
   "cell_type": "code",
   "execution_count": null,
   "metadata": {
    "colab": {
     "base_uri": "https://localhost:8080/"
    },
    "id": "K2f1YkXLWCgO",
    "outputId": "cf7da119-2ee5-440c-cd92-2c41ee9bceaf"
   },
   "outputs": [],
   "source": []
  }
 ],
 "metadata": {
  "colab": {
   "provenance": []
  },
  "kernelspec": {
   "display_name": "Python 3 (ipykernel)",
   "language": "python",
   "name": "python3"
  },
  "language_info": {
   "codemirror_mode": {
    "name": "ipython",
    "version": 3
   },
   "file_extension": ".py",
   "mimetype": "text/x-python",
   "name": "python",
   "nbconvert_exporter": "python",
   "pygments_lexer": "ipython3",
   "version": "3.9.13"
  }
 },
 "nbformat": 4,
 "nbformat_minor": 1
}
