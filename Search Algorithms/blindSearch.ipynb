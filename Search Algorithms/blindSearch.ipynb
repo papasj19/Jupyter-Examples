{
  "nbformat": 4,
  "nbformat_minor": 0,
  "metadata": {
    "colab": {
      "provenance": []
    },
    "kernelspec": {
      "name": "python3",
      "display_name": "Python 3"
    },
    "language_info": {
      "name": "python"
    }
  },
  "cells": [
    {
      "cell_type": "markdown",
      "source": [
        "# Search Algorithms\n"
      ],
      "metadata": {
        "id": "TAL217z77smF"
      }
    },
    {
      "cell_type": "markdown",
      "source": [
        "These are the classes for the maze and the stack."
      ],
      "metadata": {
        "id": "J2-ZiAAa75tw"
      }
    },
    {
      "cell_type": "code",
      "execution_count": 1,
      "metadata": {
        "id": "g-HGdsh8JLNZ"
      },
      "outputs": [],
      "source": [
        "import sys\n",
        "from IPython.display import Image, display\n",
        "\n",
        "class Node():\n",
        "    def __init__(self, state, parent, action):\n",
        "        self.state = state\n",
        "        self.parent = parent\n",
        "        self.action = action\n",
        "        \n",
        "\n",
        "\n",
        "class StackFrontier():\n",
        "    def __init__(self):\n",
        "        self.frontier = []\n",
        "\n",
        "    def add(self, node):\n",
        "        self.frontier.append(node)\n",
        "\n",
        "    def contains_state(self, state):\n",
        "        return any(node.state == state for node in self.frontier)\n",
        "\n",
        "    def empty(self):\n",
        "        return len(self.frontier) == 0\n",
        "\n",
        "    def remove(self):\n",
        "        if self.empty():\n",
        "            raise Exception(\"empty frontier\")\n",
        "        else:\n",
        "            node = self.frontier[-1]\n",
        "            self.frontier = self.frontier[:-1]\n",
        "            return node\n",
        "\n",
        "\n",
        "class QueueFrontier(StackFrontier):\n",
        "\n",
        "    def remove(self):\n",
        "        if self.empty():\n",
        "            raise Exception(\"empty frontier\")\n",
        "        else:\n",
        "            node = self.frontier[0]\n",
        "            self.frontier = self.frontier[1:]\n",
        "            return node\n",
        "\n",
        "class Maze():\n",
        "\n",
        "    def __init__(self, filename):\n",
        "\n",
        "        # Read file and set height and width of maze\n",
        "        with open(filename) as f:\n",
        "            contents = f.read()\n",
        "\n",
        "        # Validate start and goal\n",
        "        if contents.count(\"A\") != 1:\n",
        "            raise Exception(\"maze must have exactly one start point\")\n",
        "        if contents.count(\"B\") != 1:\n",
        "            raise Exception(\"maze must have exactly one goal\")\n",
        "\n",
        "        # Determine height and width of maze\n",
        "        contents = contents.splitlines()\n",
        "        self.height = len(contents)\n",
        "        self.width = max(len(line) for line in contents)\n",
        "\n",
        "        # Keep track of walls\n",
        "        self.walls = []\n",
        "        for i in range(self.height):\n",
        "            row = []\n",
        "            for j in range(self.width):\n",
        "                try:\n",
        "                    if contents[i][j] == \"A\":\n",
        "                        self.start = (i, j)\n",
        "                        row.append(False)\n",
        "                    elif contents[i][j] == \"B\":\n",
        "                        self.goal = (i, j)\n",
        "                        row.append(False)\n",
        "                    elif contents[i][j] == \" \":\n",
        "                        row.append(False)\n",
        "                    else:\n",
        "                        row.append(True)\n",
        "                except IndexError:\n",
        "                    row.append(False)\n",
        "            self.walls.append(row)\n",
        "\n",
        "        self.solution = None\n",
        "\n",
        "\n",
        "    def print(self):\n",
        "        solution = self.solution[1] if self.solution is not None else None\n",
        "        print()\n",
        "        for i, row in enumerate(self.walls):\n",
        "            for j, col in enumerate(row):\n",
        "                if col:\n",
        "                    print(\"#\", end=\"\")\n",
        "                elif (i, j) == self.start:\n",
        "                    print(\"A\", end=\"\")\n",
        "                elif (i, j) == self.goal:\n",
        "                    print(\"B\", end=\"\")\n",
        "                elif solution is not None and (i, j) in solution:\n",
        "                    print(\"*\", end=\"\")\n",
        "                else:\n",
        "                    print(\" \", end=\"\")\n",
        "            print()\n",
        "        print()\n",
        "\n",
        "\n",
        "    def neighbors(self, state):\n",
        "        row, col = state\n",
        "        candidates = [\n",
        "            (\"up\", (row - 1, col)),\n",
        "            (\"down\", (row + 1, col)),\n",
        "            (\"left\", (row, col - 1)),\n",
        "            (\"right\", (row, col + 1))\n",
        "        ]\n",
        "\n",
        "        result = []\n",
        "        for action, (r, c) in candidates:\n",
        "            if 0 <= r < self.height and 0 <= c < self.width and not self.walls[r][c]:\n",
        "                result.append((action, (r, c)))\n",
        "        return result\n",
        "\n",
        "    def output_image(self, filename, show_solution=True, show_explored=False):\n",
        "        from PIL import Image, ImageDraw\n",
        "        cell_size = 50\n",
        "        cell_border = 2\n",
        "\n",
        "        # Create a blank canvas\n",
        "        img = Image.new(\n",
        "            \"RGBA\",\n",
        "            (self.width * cell_size, self.height * cell_size),\n",
        "            \"black\"\n",
        "        )\n",
        "        draw = ImageDraw.Draw(img)\n",
        "\n",
        "        solution = self.solution[1] if self.solution is not None else None\n",
        "        for i, row in enumerate(self.walls):\n",
        "            for j, col in enumerate(row):\n",
        "\n",
        "                # Walls\n",
        "                if col:\n",
        "                    fill = (40, 40, 40)\n",
        "\n",
        "                # Start\n",
        "                elif (i, j) == self.start:\n",
        "                    fill = (255, 0, 0)\n",
        "\n",
        "                # Goal\n",
        "                elif (i, j) == self.goal:\n",
        "                    fill = (0, 171, 28)\n",
        "\n",
        "                # Solution\n",
        "                elif solution is not None and show_solution and (i, j) in solution:\n",
        "                    fill = (220, 235, 113)\n",
        "\n",
        "                # Explored\n",
        "                elif solution is not None and show_explored and (i, j) in self.explored:\n",
        "                    fill = (212, 97, 85)\n",
        "\n",
        "                # Empty cell\n",
        "                else:\n",
        "                    fill = (237, 240, 252)\n",
        "\n",
        "                # Draw cell\n",
        "                draw.rectangle(\n",
        "                    ([(j * cell_size + cell_border, i * cell_size + cell_border),\n",
        "                      ((j + 1) * cell_size - cell_border, (i + 1) * cell_size - cell_border)]),\n",
        "                    fill=fill\n",
        "                )\n",
        "\n",
        "        img.save(filename)\n"
      ]
    },
    {
      "cell_type": "markdown",
      "source": [
        "Load the maze.\n"
      ],
      "metadata": {
        "id": "gyKK5PLw7l7j"
      }
    },
    {
      "cell_type": "code",
      "source": [
        "m = Maze(\"/content/maze2.txt\")    # try maze2.txt and maze3.txt\n",
        "print(\"Maze:\")\n",
        "m.output_image(\"maze2.png\", show_explored=True)\n",
        "display(Image(filename=\"maze2.png\"))"
      ],
      "metadata": {
        "id": "Dk9czIZ6JN2E",
        "colab": {
          "base_uri": "https://localhost:8080/",
          "height": 468
        },
        "outputId": "5f4a014f-1c7e-4937-f7c2-adb756332968"
      },
      "execution_count": 17,
      "outputs": [
        {
          "output_type": "stream",
          "name": "stdout",
          "text": [
            "Maze:\n"
          ]
        },
        {
          "output_type": "display_data",
          "data": {
            "image/png": "[encoded data removed]",
            "text/plain": [
              "<IPython.core.display.Image object>"
            ]
          },
          "metadata": {}
        }
      ]
    },
    {
      "cell_type": "markdown",
      "source": [
        "Initialize the frontier and the explored sets"
      ],
      "metadata": {
        "id": "2yYtx40u9vXK"
      }
    },
    {
      "cell_type": "code",
      "source": [
        "# Keep track of number of states explored\n",
        "m.num_explored = 0\n",
        "\n",
        "# Initialize frontier to just the starting position\n",
        "start = Node(m.start, parent=None, action=None)\n",
        "frontier = QueueFrontier()\n",
        "frontier.add(start)\n",
        "\n",
        "# Initialize an empty explored set\n",
        "m.explored = set()"
      ],
      "metadata": {
        "id": "8le2STUJ-EG8"
      },
      "execution_count": 18,
      "outputs": []
    },
    {
      "cell_type": "code",
      "source": [
        "print(frontier[0])"
      ],
      "metadata": {
        "colab": {
          "base_uri": "https://localhost:8080/",
          "height": 164
        },
        "id": "d62_cK7fhLCD",
        "outputId": "fa641f3f-e36c-4ba8-e313-d793b885e348"
      },
      "execution_count": 7,
      "outputs": [
        {
          "output_type": "error",
          "ename": "TypeError",
          "evalue": "ignored",
          "traceback": [
            "\u001b[0;31m---------------------------------------------------------------------------\u001b[0m",
            "\u001b[0;31mTypeError\u001b[0m                                 Traceback (most recent call last)",
            "\u001b[0;32m<ipython-input-7-648e8c804536>\u001b[0m in \u001b[0;36m<cell line: 1>\u001b[0;34m()\u001b[0m\n\u001b[0;32m----> 1\u001b[0;31m \u001b[0mprint\u001b[0m\u001b[0;34m(\u001b[0m\u001b[0mfrontier\u001b[0m\u001b[0;34m[\u001b[0m\u001b[0;36m0\u001b[0m\u001b[0;34m]\u001b[0m\u001b[0;34m)\u001b[0m\u001b[0;34m\u001b[0m\u001b[0;34m\u001b[0m\u001b[0m\n\u001b[0m",
            "\u001b[0;31mTypeError\u001b[0m: 'StackFrontier' object is not subscriptable"
          ]
        }
      ]
    },
    {
      "cell_type": "markdown",
      "source": [
        "Keep looping until solution found"
      ],
      "metadata": {
        "id": "pqCIMzs3-p6f"
      }
    },
    {
      "cell_type": "code",
      "source": [
        "while True:\n",
        "\n",
        "    # If nothing left in frontier, then no path\n",
        "    if frontier.empty():\n",
        "        raise Exception(\"no solution\")\n",
        "\n",
        "    # Choose a node from the frontier\n",
        "    node = frontier.remove()\n",
        "\n",
        "\n",
        "    # If node is the goal, then we have a solution\n",
        "    if node.state == m.goal:\n",
        "        actions = []\n",
        "        cells = []\n",
        "        while node.parent is not None:\n",
        "            actions.append(node.action)\n",
        "            cells.append(node.state)\n",
        "            node = node.parent\n",
        "        actions.reverse()\n",
        "        cells.reverse()\n",
        "        m.solution = (actions, cells)\n",
        "        break\n",
        "\n",
        "    # Mark node as explored\n",
        "    m.explored.add(node.state)\n",
        "    m.num_explored += 1\n",
        "\n",
        "    # Add neighbors to frontier\n",
        "    for action, state in m.neighbors(node.state):\n",
        "      if not frontier.contains_state(state) and state not in m.explored:\n",
        "        child = Node(state=state, parent=node, action=action)\n",
        "        frontier.add(child)\n",
        "\n",
        "        "
      ],
      "metadata": {
        "id": "aLaP-GIi-rUb"
      },
      "execution_count": 20,
      "outputs": []
    },
    {
      "cell_type": "markdown",
      "source": [
        "Display the solution"
      ],
      "metadata": {
        "id": "Owismko8_Qch"
      }
    },
    {
      "cell_type": "code",
      "source": [
        "print(\"States Explored:\", m.num_explored)\n",
        "print(\"Solution:\")\n",
        "\n",
        "m.output_image(\"maze2.png\", show_explored=True)\n",
        "display(Image(filename=\"maze2.png\"))"
      ],
      "metadata": {
        "id": "fXT_RhaD_HXy",
        "colab": {
          "base_uri": "https://localhost:8080/",
          "height": 485
        },
        "outputId": "6e1b4cd2-e26b-41b4-b94d-9d1443ce6917"
      },
      "execution_count": 21,
      "outputs": [
        {
          "output_type": "stream",
          "name": "stdout",
          "text": [
            "States Explored: 76\n",
            "Solution:\n"
          ]
        },
        {
          "output_type": "display_data",
          "data": {
            "image/png": "[encoded data removed]",
            "text/plain": [
              "<IPython.core.display.Image object>"
            ]
          },
          "metadata": {}
        }
      ]
    },
    {
      "cell_type": "markdown",
      "source": [
        "*Acknowledgements: Code adapted from CS50’s Introduction to Artificial Intelligence with Python (https://cs50.harvard.edu/ai/2020/weeks/0/). Licensed under a Creative Commons Attribution-NonCommercial-ShareAlike 4.0 International (CC BY-NC-SA 4.0) license*"
      ],
      "metadata": {
        "id": "ADUTTg_o_Wc2"
      }
    },
    {
      "cell_type": "markdown",
      "source": [
        "# Exercise\n",
        "Change the code so that it implements the Breadth-First Search"
      ],
      "metadata": {
        "id": "lyfex7CgBxZg"
      }
    }
  ]
}